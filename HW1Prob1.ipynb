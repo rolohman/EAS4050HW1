{
 "cells": [
  {
   "cell_type": "markdown",
   "id": "6366847b",
   "metadata": {},
   "source": [
    "In the first cell we import some packages.  These will be refered to as np.whatever, etc., below"
   ]
  },
  {
   "cell_type": "code",
   "execution_count": null,
   "id": "8abb8779",
   "metadata": {},
   "outputs": [],
   "source": [
    "import pandas as pd\n",
    "import numpy as np\n",
    "import matplotlib.pyplot as plt"
   ]
  },
  {
   "cell_type": "markdown",
   "id": "ff15c9ac",
   "metadata": {},
   "source": [
    "Now we read in my table of comma-delimited data: x and y values of some points.  Then we plot them."
   ]
  },
  {
   "cell_type": "code",
   "execution_count": null,
   "id": "343bb5cc",
   "metadata": {},
   "outputs": [],
   "source": [
    "data=pd.read_csv('HW1Prob1.csv',names=['x','y']) \n",
    "plt.plot(data['x'],data['y'],'bo')\n"
   ]
  },
  {
   "cell_type": "markdown",
   "id": "58c2d32a",
   "metadata": {},
   "source": [
    "Above I plotted directly from the \"pandas\" database I'd made -here I pull those out as arrays and plot with a different color/marker"
   ]
  },
  {
   "cell_type": "code",
   "execution_count": null,
   "id": "033e39ea",
   "metadata": {},
   "outputs": [],
   "source": [
    "x=data['x'].to_numpy()\n",
    "y=data['y'].to_numpy()\n",
    "plt.plot(x,y,'r*')"
   ]
  },
  {
   "cell_type": "markdown",
   "id": "23e3ab1b",
   "metadata": {},
   "source": [
    "Now we do some matrix operations.  This is the same as lines 6 and 7 in the matlab code.  We are making a new matrix that, when multiplied by the data, gives us the best fit \"a\" and \"b\" in the equation y = ax + b"
   ]
  },
  {
   "cell_type": "code",
   "execution_count": null,
   "id": "cca5ce9b",
   "metadata": {},
   "outputs": [],
   "source": [
    "G  = np.transpose([x,np.ones(np.shape(x))])\n",
    "Gt=  np.transpose(G)\n",
    "Gg = np.linalg.inv(Gt.dot(G)).dot(Gt)"
   ]
  },
  {
   "cell_type": "markdown",
   "id": "3dccffa6",
   "metadata": {},
   "source": [
    "Now we solve for that best fit model and plot the resulting fit."
   ]
  },
  {
   "cell_type": "code",
   "execution_count": null,
   "id": "485e1333",
   "metadata": {},
   "outputs": [],
   "source": [
    "model   = Gg.dot(y)\n",
    "predict = G.dot(model)\n",
    "\n",
    "fig=plt.figure()\n",
    "ax = fig.add_subplot(1, 1, 1)\n",
    "ax.plot(x,y,'.',label='Data')\n",
    "ax.plot(x,predict,'r.',label='Best fit line')\n",
    "ax.set_xlabel('x')\n",
    "ax.set_ylabel('y')\n",
    "ax.legend()"
   ]
  },
  {
   "cell_type": "code",
   "execution_count": null,
   "id": "a257fe55",
   "metadata": {},
   "outputs": [],
   "source": []
  }
 ],
 "metadata": {
  "kernelspec": {
   "display_name": "Python 3",
   "language": "python",
   "name": "python3"
  },
  "language_info": {
   "codemirror_mode": {
    "name": "ipython",
    "version": 3
   },
   "file_extension": ".py",
   "mimetype": "text/x-python",
   "name": "python",
   "nbconvert_exporter": "python",
   "pygments_lexer": "ipython3",
   "version": "3.7.6"
  }
 },
 "nbformat": 4,
 "nbformat_minor": 5
}
