{
 "cells": [
  {
   "cell_type": "markdown",
   "id": "a80a9cec-1e36-4c17-82fc-1b01006bfb0e",
   "metadata": {},
   "source": [
    "In the first cell we import some packages.  These will be refered to as np.whatever, etc., below"
   ]
  },
  {
   "cell_type": "code",
   "execution_count": null,
   "id": "a71ffe71-4b21-4d14-a226-fb534771e09e",
   "metadata": {},
   "outputs": [],
   "source": [
    "import pandas as pd\n",
    "import numpy as np\n",
    "import matplotlib.pyplot as plt"
   ]
  },
  {
   "cell_type": "markdown",
   "id": "e7e2999d-fbaa-4303-8ca6-e751c45dc8d9",
   "metadata": {},
   "source": [
    "Now we read in my table of comma-delimited data: x and y values of some points.  Then we plot them."
   ]
  },
  {
   "cell_type": "code",
   "execution_count": null,
   "id": "a737dbb3-7bd7-48e1-bb8a-e59257420c1d",
   "metadata": {},
   "outputs": [],
   "source": [
    "data=pd.read_csv('HW1Prob1.csv',names=['x','y']) \n",
    "plt.plot(data['x'],data['y'],'bo')\n"
   ]
  },
  {
   "cell_type": "markdown",
   "id": "d5fa4f34-1077-4589-94ad-9475fb015a5d",
   "metadata": {},
   "source": [
    "Above I plotted directly from the \"pandas\" database I'd made -here I pull those out as arrays and plot with a different color/marker"
   ]
  },
  {
   "cell_type": "code",
   "execution_count": null,
   "id": "ee1a35f1-a3d1-4d1c-a7a1-98cb981f2fa7",
   "metadata": {},
   "outputs": [],
   "source": [
    "x=data['x'].to_numpy()\n",
    "y=data['y'].to_numpy()\n",
    "plt.plot(x,y,'r*')"
   ]
  },
  {
   "cell_type": "markdown",
   "id": "03fe3b3a-79d9-41de-9455-ce73ef58e108",
   "metadata": {},
   "source": [
    "Now we do some matrix operations.  This is the same as lines 6 and 7 in the matlab code.  We are making a new matrix that, when multiplied by the data, gives us the best fit \"a\" and \"b\" in the equation y = ax + b"
   ]
  },
  {
   "cell_type": "code",
   "execution_count": null,
   "id": "71a3c516-827c-4fc2-8f6c-6be0fd63c257",
   "metadata": {},
   "outputs": [],
   "source": [
    "G  = np.transpose([x,np.ones(np.shape(x))])\n",
    "Gt=  np.transpose(G)\n",
    "Gg = np.linalg.inv(Gt.dot(G)).dot(Gt)"
   ]
  },
  {
   "cell_type": "markdown",
   "id": "c5bd583d-0ee6-4a15-9e1b-0c14d20d9629",
   "metadata": {},
   "source": [
    "Now we solve for that best fit model and plot the resulting fit."
   ]
  },
  {
   "cell_type": "code",
   "execution_count": null,
   "id": "149c186a-02ad-42b7-b429-9fd23d282f67",
   "metadata": {},
   "outputs": [],
   "source": [
    "model   = Gg.dot(y)\n",
    "predict = G.dot(model)\n",
    "\n",
    "fig=plt.figure()\n",
    "ax = fig.add_subplot(1, 1, 1)\n",
    "ax.plot(x,y,'.',label='Data')\n",
    "ax.plot(x,predict,'r.',label='Best fit line')\n",
    "ax.set_xlabel('x')\n",
    "ax.set_ylabel('y')\n",
    "ax.legend()"
   ]
  },
  {
   "cell_type": "code",
   "execution_count": null,
   "id": "b52b2d3f-2b76-4b14-91de-aaa5532fecf4",
   "metadata": {},
   "outputs": [],
   "source": []
  }
 ],
 "metadata": {
  "kernelspec": {
   "display_name": "Python 3",
   "language": "python",
   "name": "python3"
  },
  "language_info": {
   "codemirror_mode": {
    "name": "ipython",
    "version": 3
   },
   "file_extension": ".py",
   "mimetype": "text/x-python",
   "name": "python",
   "nbconvert_exporter": "python",
   "pygments_lexer": "ipython3",
   "version": "3.7.0"
  }
 },
 "nbformat": 4,
 "nbformat_minor": 5
}
